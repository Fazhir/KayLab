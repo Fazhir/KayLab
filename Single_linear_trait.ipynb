{
 "cells": [
  {
   "cell_type": "code",
   "execution_count": 1,
   "id": "58bde4a3",
   "metadata": {},
   "outputs": [
    {
     "name": "stderr",
     "output_type": "stream",
     "text": [
      "\u001b[32m\u001b[1m    Updating\u001b[22m\u001b[39m git-repo `https://github.com/reworkhow/JWAS.jl.git`\n",
      "\u001b[32m\u001b[1m    Updating\u001b[22m\u001b[39m registry at `C:\\Users\\fmkay\\.julia\\registries\\General.toml`\n",
      "\u001b[32m\u001b[1m   Resolving\u001b[22m\u001b[39m package versions...\n",
      "\u001b[32m\u001b[1m  No Changes\u001b[22m\u001b[39m to `C:\\Users\\fmkay\\.julia\\environments\\v1.7\\Project.toml`\n",
      "\u001b[32m\u001b[1m  No Changes\u001b[22m\u001b[39m to `C:\\Users\\fmkay\\.julia\\environments\\v1.7\\Manifest.toml`\n",
      "\u001b[32m\u001b[1m   Resolving\u001b[22m\u001b[39m package versions...\n",
      "\u001b[32m\u001b[1m  No Changes\u001b[22m\u001b[39m to `C:\\Users\\fmkay\\.julia\\environments\\v1.7\\Project.toml`\n",
      "\u001b[32m\u001b[1m  No Changes\u001b[22m\u001b[39m to `C:\\Users\\fmkay\\.julia\\environments\\v1.7\\Manifest.toml`\n",
      "\u001b[32m\u001b[1m   Resolving\u001b[22m\u001b[39m package versions...\n",
      "\u001b[32m\u001b[1m  No Changes\u001b[22m\u001b[39m to `C:\\Users\\fmkay\\.julia\\environments\\v1.7\\Project.toml`\n",
      "\u001b[32m\u001b[1m  No Changes\u001b[22m\u001b[39m to `C:\\Users\\fmkay\\.julia\\environments\\v1.7\\Manifest.toml`\n",
      "\u001b[32m\u001b[1m    Updating\u001b[22m\u001b[39m git-repo `https://github.com/reworkhow/JWAS.jl.git`\n",
      "\u001b[32m\u001b[1m    Updating\u001b[22m\u001b[39m registry at `C:\\Users\\fmkay\\.julia\\registries\\General.toml`\n",
      "\u001b[32m\u001b[1m   Resolving\u001b[22m\u001b[39m package versions...\n",
      "\u001b[32m\u001b[1m  No Changes\u001b[22m\u001b[39m to `C:\\Users\\fmkay\\.julia\\environments\\v1.7\\Project.toml`\n",
      "\u001b[32m\u001b[1m  No Changes\u001b[22m\u001b[39m to `C:\\Users\\fmkay\\.julia\\environments\\v1.7\\Manifest.toml`\n",
      "\u001b[32m\u001b[1m   Resolving\u001b[22m\u001b[39m package versions...\n",
      "\u001b[32m\u001b[1m  No Changes\u001b[22m\u001b[39m to `C:\\Users\\fmkay\\.julia\\environments\\v1.7\\Project.toml`\n",
      "\u001b[32m\u001b[1m  No Changes\u001b[22m\u001b[39m to `C:\\Users\\fmkay\\.julia\\environments\\v1.7\\Manifest.toml`\n",
      "\u001b[32m\u001b[1m   Resolving\u001b[22m\u001b[39m package versions...\n",
      "\u001b[32m\u001b[1m  No Changes\u001b[22m\u001b[39m to `C:\\Users\\fmkay\\.julia\\environments\\v1.7\\Project.toml`\n",
      "\u001b[32m\u001b[1m  No Changes\u001b[22m\u001b[39m to `C:\\Users\\fmkay\\.julia\\environments\\v1.7\\Manifest.toml`\n"
     ]
    }
   ],
   "source": [
    "using Pkg\n",
    "Pkg.add(PackageSpec(name=\"JWAS\", rev=\"master\"))\n",
    "#Pkg.update()\n",
    "Pkg.add(\"DataFrames\")\n",
    "Pkg.add(\"CSV\")\n",
    "using JWAS,JWAS.Datasets,DataFrames,CSV\n"
   ]
  },
  {
   "cell_type": "code",
   "execution_count": 2,
   "id": "15cab826",
   "metadata": {},
   "outputs": [
    {
     "data": {
      "text/html": [
       "<table class=\"data-frame\"><thead><tr><th></th><th>ID</th><th>PigID</th><th>Batch</th><th>BatchNum</th><th>Company</th><th>SowID</th><th>NurEnrich</th><th>EntryAge</th><th>cNurEntryAge</th></tr><tr><th></th><th>Int64</th><th>Int64</th><th>Int64?</th><th>String?</th><th>String?</th><th>String?</th><th>Bool?</th><th>Int64?</th><th>Int64?</th></tr></thead><tbody><p>5 rows × 138 columns (omitted printing of 129 columns)</p><tr><th>1</th><td>4935</td><td>3386</td><td>81</td><td>81</td><td>E</td><td>E8B260</td><td><em>missing</em></td><td>22</td><td><em>missing</em></td></tr><tr><th>2</th><td>4936</td><td>3387</td><td>81</td><td>81</td><td>E</td><td>W3W953</td><td><em>missing</em></td><td>22</td><td><em>missing</em></td></tr><tr><th>3</th><td>4937</td><td>3388</td><td>81</td><td>81</td><td>E</td><td>E8B205</td><td><em>missing</em></td><td>17</td><td><em>missing</em></td></tr><tr><th>4</th><td>4938</td><td>3389</td><td>81</td><td>81</td><td>E</td><td>E8B411</td><td><em>missing</em></td><td>19</td><td><em>missing</em></td></tr><tr><th>5</th><td>4939</td><td>3390</td><td>81</td><td>81</td><td>E</td><td>3240</td><td><em>missing</em></td><td>16</td><td><em>missing</em></td></tr></tbody></table>"
      ],
      "text/latex": [
       "\\begin{tabular}{r|cccccccccc}\n",
       "\t& ID & PigID & Batch & BatchNum & Company & SowID & NurEnrich & EntryAge & cNurEntryAge & \\\\\n",
       "\t\\hline\n",
       "\t& Int64 & Int64 & Int64? & String? & String? & String? & Bool? & Int64? & Int64? & \\\\\n",
       "\t\\hline\n",
       "\t1 & 4935 & 3386 & 81 & 81 & E & E8B260 & \\emph{missing} & 22 & \\emph{missing} & $\\dots$ \\\\\n",
       "\t2 & 4936 & 3387 & 81 & 81 & E & W3W953 & \\emph{missing} & 22 & \\emph{missing} & $\\dots$ \\\\\n",
       "\t3 & 4937 & 3388 & 81 & 81 & E & E8B205 & \\emph{missing} & 17 & \\emph{missing} & $\\dots$ \\\\\n",
       "\t4 & 4938 & 3389 & 81 & 81 & E & E8B411 & \\emph{missing} & 19 & \\emph{missing} & $\\dots$ \\\\\n",
       "\t5 & 4939 & 3390 & 81 & 81 & E & 3240 & \\emph{missing} & 16 & \\emph{missing} & $\\dots$ \\\\\n",
       "\\end{tabular}\n"
      ],
      "text/plain": [
       "\u001b[1m5×138 DataFrame\u001b[0m\n",
       "\u001b[1m Row \u001b[0m│\u001b[1m ID    \u001b[0m\u001b[1m PigID \u001b[0m\u001b[1m Batch  \u001b[0m\u001b[1m BatchNum \u001b[0m\u001b[1m Company \u001b[0m\u001b[1m SowID   \u001b[0m\u001b[1m NurEnrich \u001b[0m\u001b[1m EntryAge \u001b[0m\u001b[1m \u001b[0m ⋯\n",
       "\u001b[1m     \u001b[0m│\u001b[90m Int64 \u001b[0m\u001b[90m Int64 \u001b[0m\u001b[90m Int64? \u001b[0m\u001b[90m String?  \u001b[0m\u001b[90m String? \u001b[0m\u001b[90m String? \u001b[0m\u001b[90m Bool?     \u001b[0m\u001b[90m Int64?   \u001b[0m\u001b[90m \u001b[0m ⋯\n",
       "─────┼──────────────────────────────────────────────────────────────────────────\n",
       "   1 │  4935   3386      81  81        E        E8B260  \u001b[90m   missing \u001b[0m       22 \u001b[90m \u001b[0m ⋯\n",
       "   2 │  4936   3387      81  81        E        W3W953  \u001b[90m   missing \u001b[0m       22 \u001b[90m\u001b[0m\n",
       "   3 │  4937   3388      81  81        E        E8B205  \u001b[90m   missing \u001b[0m       17 \u001b[90m\u001b[0m\n",
       "   4 │  4938   3389      81  81        E        E8B411  \u001b[90m   missing \u001b[0m       19 \u001b[90m\u001b[0m\n",
       "   5 │  4939   3390      81  81        E        3240    \u001b[90m   missing \u001b[0m       16 \u001b[90m \u001b[0m ⋯\n",
       "\u001b[36m                                                             130 columns omitted\u001b[0m"
      ]
     },
     "execution_count": 2,
     "metadata": {},
     "output_type": "execute_result"
    },
    {
     "data": {
      "text/html": [
       "<table class=\"data-frame\"><thead><tr><th></th><th>ID</th><th>PigID</th><th>Batch</th><th>BatchNum</th><th>Company</th><th>SowID</th><th>NurEnrich</th><th>EntryAge</th><th>cNurEntryAge</th></tr><tr><th></th><th>Int64</th><th>Int64</th><th>Int64?</th><th>String?</th><th>String?</th><th>String?</th><th>Bool?</th><th>Int64?</th><th>Int64?</th></tr></thead><tbody><p>5 rows × 138 columns (omitted printing of 129 columns)</p><tr><th>1</th><td>4935</td><td>3386</td><td>81</td><td>81</td><td>E</td><td>E8B260</td><td><em>missing</em></td><td>22</td><td><em>missing</em></td></tr><tr><th>2</th><td>4936</td><td>3387</td><td>81</td><td>81</td><td>E</td><td>W3W953</td><td><em>missing</em></td><td>22</td><td><em>missing</em></td></tr><tr><th>3</th><td>4937</td><td>3388</td><td>81</td><td>81</td><td>E</td><td>E8B205</td><td><em>missing</em></td><td>17</td><td><em>missing</em></td></tr><tr><th>4</th><td>4938</td><td>3389</td><td>81</td><td>81</td><td>E</td><td>E8B411</td><td><em>missing</em></td><td>19</td><td><em>missing</em></td></tr><tr><th>5</th><td>4939</td><td>3390</td><td>81</td><td>81</td><td>E</td><td>3240</td><td><em>missing</em></td><td>16</td><td><em>missing</em></td></tr></tbody></table>"
      ],
      "text/latex": [
       "\\begin{tabular}{r|cccccccccc}\n",
       "\t& ID & PigID & Batch & BatchNum & Company & SowID & NurEnrich & EntryAge & cNurEntryAge & \\\\\n",
       "\t\\hline\n",
       "\t& Int64 & Int64 & Int64? & String? & String? & String? & Bool? & Int64? & Int64? & \\\\\n",
       "\t\\hline\n",
       "\t1 & 4935 & 3386 & 81 & 81 & E & E8B260 & \\emph{missing} & 22 & \\emph{missing} & $\\dots$ \\\\\n",
       "\t2 & 4936 & 3387 & 81 & 81 & E & W3W953 & \\emph{missing} & 22 & \\emph{missing} & $\\dots$ \\\\\n",
       "\t3 & 4937 & 3388 & 81 & 81 & E & E8B205 & \\emph{missing} & 17 & \\emph{missing} & $\\dots$ \\\\\n",
       "\t4 & 4938 & 3389 & 81 & 81 & E & E8B411 & \\emph{missing} & 19 & \\emph{missing} & $\\dots$ \\\\\n",
       "\t5 & 4939 & 3390 & 81 & 81 & E & 3240 & \\emph{missing} & 16 & \\emph{missing} & $\\dots$ \\\\\n",
       "\\end{tabular}\n"
      ],
      "text/plain": [
       "\u001b[1m5×138 DataFrame\u001b[0m\n",
       "\u001b[1m Row \u001b[0m│\u001b[1m ID    \u001b[0m\u001b[1m PigID \u001b[0m\u001b[1m Batch  \u001b[0m\u001b[1m BatchNum \u001b[0m\u001b[1m Company \u001b[0m\u001b[1m SowID   \u001b[0m\u001b[1m NurEnrich \u001b[0m\u001b[1m EntryAge \u001b[0m\u001b[1m \u001b[0m ⋯\n",
       "\u001b[1m     \u001b[0m│\u001b[90m Int64 \u001b[0m\u001b[90m Int64 \u001b[0m\u001b[90m Int64? \u001b[0m\u001b[90m String?  \u001b[0m\u001b[90m String? \u001b[0m\u001b[90m String? \u001b[0m\u001b[90m Bool?     \u001b[0m\u001b[90m Int64?   \u001b[0m\u001b[90m \u001b[0m ⋯\n",
       "─────┼──────────────────────────────────────────────────────────────────────────\n",
       "   1 │  4935   3386      81  81        E        E8B260  \u001b[90m   missing \u001b[0m       22 \u001b[90m \u001b[0m ⋯\n",
       "   2 │  4936   3387      81  81        E        W3W953  \u001b[90m   missing \u001b[0m       22 \u001b[90m\u001b[0m\n",
       "   3 │  4937   3388      81  81        E        E8B205  \u001b[90m   missing \u001b[0m       17 \u001b[90m\u001b[0m\n",
       "   4 │  4938   3389      81  81        E        E8B411  \u001b[90m   missing \u001b[0m       19 \u001b[90m\u001b[0m\n",
       "   5 │  4939   3390      81  81        E        3240    \u001b[90m   missing \u001b[0m       16 \u001b[90m \u001b[0m ⋯\n",
       "\u001b[36m                                                             130 columns omitted\u001b[0m"
      ]
     },
     "execution_count": 2,
     "metadata": {},
     "output_type": "execute_result"
    }
   ],
   "source": [
    "phenotypes = CSV.read(\"correlate_all_snps_haplos.csv\",DataFrame,delim = ',',header=true,missingstrings=[\"NA\"])\n",
    "phenotypes = dropmissing(phenotypes, :qNurlogCort)\n",
    "first(phenotypes,5)"
   ]
  },
  {
   "cell_type": "code",
   "execution_count": 3,
   "id": "60359ee1",
   "metadata": {},
   "outputs": [
    {
     "name": "stdout",
     "output_type": "stream",
     "text": [
      "\u001b[32mThe delimiterd in dummy_genotypes.txt is ','. \u001b[39m\u001b[32mThe header (marker IDs) is provided in dummy_genotypes.txt.\u001b[39m\n",
      "Genotype informatin:\n",
      "#markers: 4999; #individuals: 4095\n",
      "\u001b[32mThe delimiterd in dummy_genotypes.txt is ','. \u001b[39m\u001b[32mThe header (marker IDs) is provided in dummy_genotypes.txt.\u001b[39m\n",
      "Genotype informatin:\n",
      "#markers: 4999; #individuals: 4095\n"
     ]
    }
   ],
   "source": [
    "Hair_G5=0.151743E-01 #Additive var.\n",
    "genotypes=get_genotypes(\"C:/Users/fmkay/Desktop/Fazhir/Hair_project/GWAS/dummy_genotypes.txt\",header=true, Hair_G5, separator = ',', method=\"BayesB\", quality_control=false, Pi = 0.999, estimatePi = false);\n"
   ]
  },
  {
   "cell_type": "code",
   "execution_count": 4,
   "id": "720e9b4f",
   "metadata": {},
   "outputs": [],
   "source": [
    "Hair_model_equation = \"qNurlogCort = Batch + EntryAge + C_groundstorage + SowID + qNurPenBatch + C_ExtractionDate + C_GrindingDate + genotypes\";"
   ]
  },
  {
   "cell_type": "code",
   "execution_count": 5,
   "id": "483a28ed",
   "metadata": {},
   "outputs": [],
   "source": [
    "Hair_R=0.721038E-01; #Residual var\n",
    "Hair_model = build_model(Hair_model_equation, Hair_R);"
   ]
  },
  {
   "cell_type": "code",
   "execution_count": 6,
   "id": "1a33ab39",
   "metadata": {},
   "outputs": [],
   "source": [
    "set_covariate(Hair_model, \"EntryAge\");\n",
    "\n",
    "Hair_G1=0.224905E-03;\n",
    "set_random(Hair_model,\"qNurPenBatch\",Hair_G1);\n",
    "Hair_G2=0.257092E-01;\n",
    "set_random(Hair_model,\"SowID\",Hair_G2);\n",
    "Hair_G3=0.05;\n",
    "set_random(Hair_model,\"C_ExtractionDate\",Hair_G3);\n",
    "Hair_G4=0.05;\n",
    "set_random(Hair_model,\"C_GrindingDate\",Hair_G4);\n"
   ]
  },
  {
   "cell_type": "code",
   "execution_count": 7,
   "id": "a55fd772",
   "metadata": {},
   "outputs": [
    {
     "name": "stderr",
     "output_type": "stream",
     "text": [
      "\u001b[32mrunning MCMC ... 100%|███████████████████████████████████| Time: 0:00:22\u001b[39m\n",
      "\u001b[32mrunning MCMC ... 100%|███████████████████████████████████| Time: 0:00:22\u001b[39m\n"
     ]
    },
    {
     "name": "stdout",
     "output_type": "stream",
     "text": [
      "\u001b[31mThe folder results already exists.\u001b[39m\n",
      "\u001b[32mThe folder results1 is created to save results.\u001b[39m\n",
      "\u001b[32mChecking genotypes...\u001b[39m\n",
      "\u001b[32mChecking phenotypes...\u001b[39m\n",
      "\u001b[32mIndividual IDs (strings) are provided in the first column of the phenotypic data.\u001b[39m\n",
      "\u001b[32mPredicted values for individuals of interest will be obtained as the summation of Any[] (Note that genomic data is always included for now).\u001b[39m\u001b[31mMissing values are found in column Batch for some observations.Effects of this variable on such observations are considered as zeros. It will be used in the estimation of this effect. Users may impute missing values before the analysis \u001b[39m\n",
      "\u001b[31mMissing values are found in column EntryAge for some observations.Effects of this variable on such observations are considered as zeros. It will be used in the estimation of this effect. Users may impute missing values before the analysis \u001b[39m\n",
      "\u001b[31mMissing values are found in column SowID for some observations.Effects of this variable on such observations are considered as zeros. It will be used in the estimation of this effect. Users may impute missing values before the analysis \u001b[39m\n",
      "\u001b[31mMissing values are found in column qNurPenBatch for some observations.Effects of this variable on such observations are considered as zeros. It will be used in the estimation of this effect. Users may impute missing values before the analysis \u001b[39m\n",
      "\u001b[31mMissing values are found in column C_GrindingDate for some observations.Effects of this variable on such observations are considered as zeros. It will be used in the estimation of this effect. Users may impute missing values before the analysis \u001b[39m\n",
      "\u001b[32mPhenotypes for 863 observations are used in the analysis.These individual IDs are saved in the file IDs_for_individuals_with_phenotypes.txt.\u001b[39m\n",
      "\n",
      "The prior for marker effects variance is calculated from the genetic variance and π.\n",
      "The mean of the prior for the marker effects variance is: 0.007651\n",
      "\n",
      "\n",
      "\n",
      "\u001b[0m\u001b[1mA Linear Mixed Model was build using model equations:\u001b[22m\n",
      "\n",
      "qNurlogCort = Batch + EntryAge + C_groundstorage + SowID + qNurPenBatch + C_ExtractionDate + C_GrindingDate + genotypes\n",
      "\n",
      "\u001b[0m\u001b[1mModel Information:\u001b[22m\n",
      "\n",
      "Term            C/F          F/R            nLevels\n",
      "Batch           factor       fixed               15\n",
      "EntryAge        covariate    fixed                1\n",
      "C_groundstorage factor       fixed                2\n",
      "SowID           factor       random             281\n",
      "qNurPenBatch    factor       random              68\n",
      "C_ExtractionDate factor       random              22\n",
      "C_GrindingDate  factor       random              55\n",
      "\n",
      "\u001b[0m\u001b[1mMCMC Information:\u001b[22m\n",
      "\n",
      "chain_length                                   1000\n",
      "burnin                                            0\n",
      "starting_value                                 true\n",
      "printout_frequency                             1001\n",
      "output_samples_frequency                         10\n",
      "constraint                                    false\n",
      "missing_phenotypes                             true\n",
      "update_priors_frequency                           0\n",
      "seed                                          false\n",
      "\n",
      "\u001b[0m\u001b[1mHyper-parameters Information:\u001b[22m\n",
      "\n",
      "random effect variances (qNurlogCort:qNurPenBatch):              [0.0;;]\n",
      "random effect variances (qNurlogCort:SowID): [0.026000000536441803;;]\n",
      "random effect variances (qNurlogCort:C_ExtractionDate): [0.05000000074505806;;]\n",
      "random effect variances (qNurlogCort:C_GrindingDate): [0.05000000074505806;;]\n",
      "residual variances:                           0.072\n",
      "\n",
      "\u001b[0m\u001b[1mGenomic Information:\u001b[22m\n",
      "\n",
      "complete genomic data (i.e., non-single-step analysis)\n",
      "\n",
      "Genomic Category                          genotypes\n",
      "Method                                       BayesB\n",
      "genetic variances (genomic):                  0.015\n",
      "marker effect variances:                      0.008\n",
      "π                                             0.999\n",
      "estimatePi                                    false\n",
      "estimateScale                                 false\n",
      "\n",
      "\u001b[0m\u001b[1mDegree of freedom for hyper-parameters:\u001b[22m\n",
      "\n",
      "residual variances:                           4.000\n",
      "random effect variances:                      5.000\n",
      "random effect variances:                      5.000\n",
      "random effect variances:                      5.000\n",
      "random effect variances:                      5.000\n",
      "marker effect variances:                      4.000\n",
      "\n",
      "\n",
      "\n",
      "\u001b[32mThe file results1/MCMC_samples_residual_variance.txt is created to save MCMC samples for residual_variance.\u001b[39m\n",
      "\u001b[32mThe file results1/MCMC_samples_marker_effects_genotypes_qNurlogCort.txt is created to save MCMC samples for marker_effects_genotypes_qNurlogCort.\u001b[39m\n",
      "\u001b[32mThe file results1/MCMC_samples_marker_effects_variances_genotypes.txt is created to save MCMC samples for marker_effects_variances_genotypes.\u001b[39m\n",
      "\u001b[32mThe file results1/MCMC_samples_pi_genotypes.txt is created to save MCMC samples for pi_genotypes.\u001b[39m\n",
      "\u001b[32mThe file results1/MCMC_samples_qNurlogCort.qNurPenBatch_variances.txt is created to save MCMC samples for qNurlogCort:qNurPenBatch_variances.\u001b[39m\n",
      "\u001b[32mThe file results1/MCMC_samples_qNurlogCort.SowID_variances.txt is created to save MCMC samples for qNurlogCort:SowID_variances.\u001b[39m\n",
      "\u001b[32mThe file results1/MCMC_samples_qNurlogCort.C_ExtractionDate_variances.txt is created to save MCMC samples for qNurlogCort:C_ExtractionDate_variances.\u001b[39m\n",
      "\u001b[32mThe file results1/MCMC_samples_qNurlogCort.C_GrindingDate_variances.txt is created to save MCMC samples for qNurlogCort:C_GrindingDate_variances.\u001b[39m\n",
      "\u001b[32mThe file results1/MCMC_samples_EBV_qNurlogCort.txt is created to save MCMC samples for EBV_qNurlogCort.\u001b[39m\n",
      "\u001b[32mThe file results1/MCMC_samples_genetic_variance.txt is created to save MCMC samples for genetic_variance.\u001b[39m\n",
      "\u001b[32mThe file results1/MCMC_samples_heritability.txt is created to save MCMC samples for heritability.\u001b[39m\n",
      "\n",
      "\n",
      "\u001b[0m\u001b[1mThe version of Julia and Platform in use:\u001b[22m\n",
      "\n",
      "Julia Version 1.7.2\n",
      "Commit bf53498635 (2022-02-06 15:21 UTC)\n",
      "Platform Info:\n",
      "  OS: Windows (x86_64-w64-mingw32)\n",
      "  CPU: Intel(R) Celeron(R) N4500 @ 1.10GHz\n",
      "  WORD_SIZE: 64\n",
      "  LIBM: libopenlibm\n",
      "  LLVM: libLLVM-12.0.1 (ORCJIT, tremont)\n",
      "\n",
      "\n",
      "\u001b[0m\u001b[1mThe analysis has finished. Results are saved in the returned \u001b[22m\u001b[0m\u001b[1mvariable and text files. MCMC samples are saved in text files.\u001b[22m\n",
      "\n",
      "\n",
      "\u001b[31mThe folder results already exists.\u001b[39m\n",
      "\u001b[32mThe folder results1 is created to save results.\u001b[39m\n",
      "\u001b[32mChecking genotypes...\u001b[39m\n",
      "\u001b[32mChecking phenotypes...\u001b[39m\n",
      "\u001b[32mIndividual IDs (strings) are provided in the first column of the phenotypic data.\u001b[39m\n",
      "\u001b[32mPredicted values for individuals of interest will be obtained as the summation of Any[] (Note that genomic data is always included for now).\u001b[39m\u001b[31mMissing values are found in column Batch for some observations.Effects of this variable on such observations are considered as zeros. It will be used in the estimation of this effect. Users may impute missing values before the analysis \u001b[39m\n",
      "\u001b[31mMissing values are found in column EntryAge for some observations.Effects of this variable on such observations are considered as zeros. It will be used in the estimation of this effect. Users may impute missing values before the analysis \u001b[39m\n",
      "\u001b[31mMissing values are found in column SowID for some observations.Effects of this variable on such observations are considered as zeros. It will be used in the estimation of this effect. Users may impute missing values before the analysis \u001b[39m\n",
      "\u001b[31mMissing values are found in column qNurPenBatch for some observations.Effects of this variable on such observations are considered as zeros. It will be used in the estimation of this effect. Users may impute missing values before the analysis \u001b[39m\n",
      "\u001b[31mMissing values are found in column C_GrindingDate for some observations.Effects of this variable on such observations are considered as zeros. It will be used in the estimation of this effect. Users may impute missing values before the analysis \u001b[39m\n",
      "\u001b[32mPhenotypes for 863 observations are used in the analysis.These individual IDs are saved in the file IDs_for_individuals_with_phenotypes.txt.\u001b[39m\n",
      "\n",
      "The prior for marker effects variance is calculated from the genetic variance and π.\n",
      "The mean of the prior for the marker effects variance is: 0.007651\n",
      "\n",
      "\n",
      "\n",
      "\u001b[0m\u001b[1mA Linear Mixed Model was build using model equations:\u001b[22m\n",
      "\n",
      "qNurlogCort = Batch + EntryAge + C_groundstorage + SowID + qNurPenBatch + C_ExtractionDate + C_GrindingDate + genotypes\n",
      "\n",
      "\u001b[0m\u001b[1mModel Information:\u001b[22m\n",
      "\n",
      "Term            C/F          F/R            nLevels\n",
      "Batch           factor       fixed               15\n",
      "EntryAge        covariate    fixed                1\n",
      "C_groundstorage factor       fixed                2\n",
      "SowID           factor       random             281\n",
      "qNurPenBatch    factor       random              68\n",
      "C_ExtractionDate factor       random              22\n",
      "C_GrindingDate  factor       random              55\n",
      "\n",
      "\u001b[0m\u001b[1mMCMC Information:\u001b[22m\n",
      "\n",
      "chain_length                                   1000\n",
      "burnin                                            0\n",
      "starting_value                                 true\n",
      "printout_frequency                             1001\n",
      "output_samples_frequency                         10\n",
      "constraint                                    false\n",
      "missing_phenotypes                             true\n",
      "update_priors_frequency                           0\n",
      "seed                                          false\n",
      "\n",
      "\u001b[0m\u001b[1mHyper-parameters Information:\u001b[22m\n",
      "\n",
      "random effect variances (qNurlogCort:qNurPenBatch):              [0.0;;]\n",
      "random effect variances (qNurlogCort:SowID): [0.026000000536441803;;]\n",
      "random effect variances (qNurlogCort:C_ExtractionDate): [0.05000000074505806;;]\n",
      "random effect variances (qNurlogCort:C_GrindingDate): [0.05000000074505806;;]\n",
      "residual variances:                           0.072\n",
      "\n",
      "\u001b[0m\u001b[1mGenomic Information:\u001b[22m\n",
      "\n",
      "complete genomic data (i.e., non-single-step analysis)\n",
      "\n",
      "Genomic Category                          genotypes\n",
      "Method                                       BayesB\n",
      "genetic variances (genomic):                  0.015\n",
      "marker effect variances:                      0.008\n",
      "π                                             0.999\n",
      "estimatePi                                    false\n",
      "estimateScale                                 false\n",
      "\n",
      "\u001b[0m\u001b[1mDegree of freedom for hyper-parameters:\u001b[22m\n",
      "\n",
      "residual variances:                           4.000\n",
      "random effect variances:                      5.000\n",
      "random effect variances:                      5.000\n",
      "random effect variances:                      5.000\n",
      "random effect variances:                      5.000\n",
      "marker effect variances:                      4.000\n",
      "\n",
      "\n",
      "\n",
      "\u001b[32mThe file results1/MCMC_samples_residual_variance.txt is created to save MCMC samples for residual_variance.\u001b[39m\n",
      "\u001b[32mThe file results1/MCMC_samples_marker_effects_genotypes_qNurlogCort.txt is created to save MCMC samples for marker_effects_genotypes_qNurlogCort.\u001b[39m\n",
      "\u001b[32mThe file results1/MCMC_samples_marker_effects_variances_genotypes.txt is created to save MCMC samples for marker_effects_variances_genotypes.\u001b[39m\n",
      "\u001b[32mThe file results1/MCMC_samples_pi_genotypes.txt is created to save MCMC samples for pi_genotypes.\u001b[39m\n",
      "\u001b[32mThe file results1/MCMC_samples_qNurlogCort.qNurPenBatch_variances.txt is created to save MCMC samples for qNurlogCort:qNurPenBatch_variances.\u001b[39m\n",
      "\u001b[32mThe file results1/MCMC_samples_qNurlogCort.SowID_variances.txt is created to save MCMC samples for qNurlogCort:SowID_variances.\u001b[39m\n",
      "\u001b[32mThe file results1/MCMC_samples_qNurlogCort.C_ExtractionDate_variances.txt is created to save MCMC samples for qNurlogCort:C_ExtractionDate_variances.\u001b[39m\n",
      "\u001b[32mThe file results1/MCMC_samples_qNurlogCort.C_GrindingDate_variances.txt is created to save MCMC samples for qNurlogCort:C_GrindingDate_variances.\u001b[39m\n",
      "\u001b[32mThe file results1/MCMC_samples_EBV_qNurlogCort.txt is created to save MCMC samples for EBV_qNurlogCort.\u001b[39m\n",
      "\u001b[32mThe file results1/MCMC_samples_genetic_variance.txt is created to save MCMC samples for genetic_variance.\u001b[39m\n",
      "\u001b[32mThe file results1/MCMC_samples_heritability.txt is created to save MCMC samples for heritability.\u001b[39m\n",
      "\n",
      "\n",
      "\u001b[0m\u001b[1mThe version of Julia and Platform in use:\u001b[22m\n",
      "\n",
      "Julia Version 1.7.2\n",
      "Commit bf53498635 (2022-02-06 15:21 UTC)\n",
      "Platform Info:\n",
      "  OS: Windows (x86_64-w64-mingw32)\n",
      "  CPU: Intel(R) Celeron(R) N4500 @ 1.10GHz\n",
      "  WORD_SIZE: 64\n",
      "  LIBM: libopenlibm\n",
      "  LLVM: libLLVM-12.0.1 (ORCJIT, tremont)\n",
      "\n",
      "\n",
      "\u001b[0m\u001b[1mThe analysis has finished. Results are saved in the returned \u001b[22m\u001b[0m\u001b[1mvariable and text files. MCMC samples are saved in text files.\u001b[22m\n",
      "\n",
      "\n"
     ]
    }
   ],
   "source": [
    "out1=runMCMC(Hair_model,phenotypes, missing_phenotypes=true, estimateScale=true, chain_length=1000,burnin = 0,output_heritability=true,  output_samples_frequency=10, output_samples_for_all_parameters = false);\n"
   ]
  },
  {
   "cell_type": "code",
   "execution_count": 9,
   "id": "5134e4a0",
   "metadata": {},
   "outputs": [
    {
     "name": "stderr",
     "output_type": "stream",
     "text": [
      "\u001b[32mrunning GWAS... 100%|████████████████████████████████████| Time: 0:00:11\u001b[39m\n",
      "\u001b[32mrunning GWAS... 100%|████████████████████████████████████| Time: 0:00:11\u001b[39m\n"
     ]
    },
    {
     "name": "stdout",
     "output_type": "stream",
     "text": [
      "Compute the posterior probability of association of the genomic window that explains more than 0.001 of the total genetic variance.\n",
      "Compute the posterior probability of association of the genomic window that explains more than 0.001 of the total genetic variance.\n"
     ]
    },
    {
     "data": {
      "text/plain": [
       "\"C:\\\\Users\\\\fmkay\\\\Desktop\\\\Fazhir\\\\Hair_project\\\\GWAS\\\\results1\""
      ]
     },
     "execution_count": 9,
     "metadata": {},
     "output_type": "execute_result"
    },
    {
     "data": {
      "text/plain": [
       "\"C:\\\\Users\\\\fmkay\\\\Desktop\\\\Fazhir\\\\Hair_project\\\\GWAS\\\\results1\""
      ]
     },
     "execution_count": 9,
     "metadata": {},
     "output_type": "execute_result"
    }
   ],
   "source": [
    "cd(\"C:/Users/fmkay/Desktop/Fazhir/Hair_project/GWAS/results1\")\n",
    "out, winVarProps = GWAS(Hair_model,\"dummy_mapfile.txt\",\"MCMC_samples_marker_effects_genotypes_qNurlogCort.txt\",header=true,GWAS=true,threshold = 0.001,window_size=\"0.25 Mb\",genetic_correlation=true,output_winVarProps = true)\n",
    "CSV.write(\"winVarProps.csv\",out)\n",
    "pwd()"
   ]
  },
  {
   "cell_type": "code",
   "execution_count": null,
   "id": "38ddfb5d",
   "metadata": {},
   "outputs": [],
   "source": [
    "?outputMCMCsamples"
   ]
  },
  {
   "cell_type": "code",
   "execution_count": null,
   "id": "28864bb4",
   "metadata": {},
   "outputs": [],
   "source": [
    "?runMCMC"
   ]
  },
  {
   "cell_type": "code",
   "execution_count": null,
   "id": "48b7f8c6",
   "metadata": {},
   "outputs": [],
   "source": [
    "?GWAS\n"
   ]
  }
 ],
 "metadata": {
  "kernelspec": {
   "display_name": "Julia 1.7.2",
   "language": "julia",
   "name": "julia-1.7"
  },
  "language_info": {
   "file_extension": ".jl",
   "mimetype": "application/julia",
   "name": "julia",
   "version": "1.7.2"
  }
 },
 "nbformat": 4,
 "nbformat_minor": 5
}
