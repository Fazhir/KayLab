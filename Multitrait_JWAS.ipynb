{
 "cells": [
  {
   "cell_type": "code",
   "execution_count": 1,
   "id": "58bde4a3",
   "metadata": {},
   "outputs": [
    {
     "name": "stderr",
     "output_type": "stream",
     "text": [
      "\u001b[32m\u001b[1m    Updating\u001b[22m\u001b[39m git-repo `https://github.com/reworkhow/JWAS.jl.git`\n",
      "\u001b[32m\u001b[1m    Updating\u001b[22m\u001b[39m registry at `C:\\Users\\fmkay\\.julia\\registries\\General.toml`\n",
      "\u001b[32m\u001b[1m   Resolving\u001b[22m\u001b[39m package versions...\n",
      "\u001b[32m\u001b[1m    Updating\u001b[22m\u001b[39m `C:\\Users\\fmkay\\.julia\\environments\\v1.7\\Project.toml`\n",
      " \u001b[90m [c9a035f4] \u001b[39m\u001b[93m~ JWAS v1.1.2 ⇒ v1.2.1 `https://github.com/reworkhow/JWAS.jl.git#master`\u001b[39m\n",
      "\u001b[32m\u001b[1m    Updating\u001b[22m\u001b[39m `C:\\Users\\fmkay\\.julia\\environments\\v1.7\\Manifest.toml`\n",
      " \u001b[90m [c9a035f4] \u001b[39m\u001b[93m~ JWAS v1.1.2 ⇒ v1.2.1 `https://github.com/reworkhow/JWAS.jl.git#master`\u001b[39m\n",
      "\u001b[32m\u001b[1mPrecompiling\u001b[22m\u001b[39m project...\n",
      "\u001b[32m  ✓ \u001b[39mJWAS\n",
      "  1 dependency successfully precompiled in 16 seconds (66 already precompiled)\n",
      "\u001b[32m\u001b[1m   Resolving\u001b[22m\u001b[39m package versions...\n",
      "\u001b[32m\u001b[1m  No Changes\u001b[22m\u001b[39m to `C:\\Users\\fmkay\\.julia\\environments\\v1.7\\Project.toml`\n",
      "\u001b[32m\u001b[1m  No Changes\u001b[22m\u001b[39m to `C:\\Users\\fmkay\\.julia\\environments\\v1.7\\Manifest.toml`\n",
      "\u001b[32m\u001b[1m   Resolving\u001b[22m\u001b[39m package versions...\n",
      "\u001b[32m\u001b[1m  No Changes\u001b[22m\u001b[39m to `C:\\Users\\fmkay\\.julia\\environments\\v1.7\\Project.toml`\n",
      "\u001b[32m\u001b[1m  No Changes\u001b[22m\u001b[39m to `C:\\Users\\fmkay\\.julia\\environments\\v1.7\\Manifest.toml`\n"
     ]
    }
   ],
   "source": [
    "using Pkg\n",
    "Pkg.add(PackageSpec(name=\"JWAS\", rev=\"master\"))\n",
    "#Pkg.update()\n",
    "Pkg.add(\"DataFrames\")\n",
    "Pkg.add(\"CSV\")\n",
    "using JWAS,JWAS.Datasets,DataFrames,CSV\n"
   ]
  },
  {
   "cell_type": "code",
   "execution_count": 2,
   "id": "15cab826",
   "metadata": {},
   "outputs": [
    {
     "data": {
      "text/html": [
       "<table class=\"data-frame\"><thead><tr><th></th><th>ID</th><th>PigID</th><th>Batch</th><th>BatchNum</th><th>Company</th><th>SowID</th><th>NurEnrich</th><th>EntryAge</th><th>cNurEntryAge</th></tr><tr><th></th><th>Int64</th><th>Int64</th><th>Int64?</th><th>String?</th><th>String?</th><th>String?</th><th>Bool?</th><th>Int64?</th><th>Int64?</th></tr></thead><tbody><p>5 rows × 138 columns (omitted printing of 129 columns)</p><tr><th>1</th><td>4935</td><td>3386</td><td>81</td><td>81</td><td>E</td><td>E8B260</td><td><em>missing</em></td><td>22</td><td><em>missing</em></td></tr><tr><th>2</th><td>4936</td><td>3387</td><td>81</td><td>81</td><td>E</td><td>W3W953</td><td><em>missing</em></td><td>22</td><td><em>missing</em></td></tr><tr><th>3</th><td>4937</td><td>3388</td><td>81</td><td>81</td><td>E</td><td>E8B205</td><td><em>missing</em></td><td>17</td><td><em>missing</em></td></tr><tr><th>4</th><td>4938</td><td>3389</td><td>81</td><td>81</td><td>E</td><td>E8B411</td><td><em>missing</em></td><td>19</td><td><em>missing</em></td></tr><tr><th>5</th><td>4939</td><td>3390</td><td>81</td><td>81</td><td>E</td><td>3240</td><td><em>missing</em></td><td>16</td><td><em>missing</em></td></tr></tbody></table>"
      ],
      "text/latex": [
       "\\begin{tabular}{r|cccccccccc}\n",
       "\t& ID & PigID & Batch & BatchNum & Company & SowID & NurEnrich & EntryAge & cNurEntryAge & \\\\\n",
       "\t\\hline\n",
       "\t& Int64 & Int64 & Int64? & String? & String? & String? & Bool? & Int64? & Int64? & \\\\\n",
       "\t\\hline\n",
       "\t1 & 4935 & 3386 & 81 & 81 & E & E8B260 & \\emph{missing} & 22 & \\emph{missing} & $\\dots$ \\\\\n",
       "\t2 & 4936 & 3387 & 81 & 81 & E & W3W953 & \\emph{missing} & 22 & \\emph{missing} & $\\dots$ \\\\\n",
       "\t3 & 4937 & 3388 & 81 & 81 & E & E8B205 & \\emph{missing} & 17 & \\emph{missing} & $\\dots$ \\\\\n",
       "\t4 & 4938 & 3389 & 81 & 81 & E & E8B411 & \\emph{missing} & 19 & \\emph{missing} & $\\dots$ \\\\\n",
       "\t5 & 4939 & 3390 & 81 & 81 & E & 3240 & \\emph{missing} & 16 & \\emph{missing} & $\\dots$ \\\\\n",
       "\\end{tabular}\n"
      ],
      "text/plain": [
       "\u001b[1m5×138 DataFrame\u001b[0m\n",
       "\u001b[1m Row \u001b[0m│\u001b[1m ID    \u001b[0m\u001b[1m PigID \u001b[0m\u001b[1m Batch  \u001b[0m\u001b[1m BatchNum \u001b[0m\u001b[1m Company \u001b[0m\u001b[1m SowID   \u001b[0m\u001b[1m NurEnrich \u001b[0m\u001b[1m EntryAge \u001b[0m\u001b[1m \u001b[0m ⋯\n",
       "\u001b[1m     \u001b[0m│\u001b[90m Int64 \u001b[0m\u001b[90m Int64 \u001b[0m\u001b[90m Int64? \u001b[0m\u001b[90m String?  \u001b[0m\u001b[90m String? \u001b[0m\u001b[90m String? \u001b[0m\u001b[90m Bool?     \u001b[0m\u001b[90m Int64?   \u001b[0m\u001b[90m \u001b[0m ⋯\n",
       "─────┼──────────────────────────────────────────────────────────────────────────\n",
       "   1 │  4935   3386      81  81        E        E8B260  \u001b[90m   missing \u001b[0m       22 \u001b[90m \u001b[0m ⋯\n",
       "   2 │  4936   3387      81  81        E        W3W953  \u001b[90m   missing \u001b[0m       22 \u001b[90m\u001b[0m\n",
       "   3 │  4937   3388      81  81        E        E8B205  \u001b[90m   missing \u001b[0m       17 \u001b[90m\u001b[0m\n",
       "   4 │  4938   3389      81  81        E        E8B411  \u001b[90m   missing \u001b[0m       19 \u001b[90m\u001b[0m\n",
       "   5 │  4939   3390      81  81        E        3240    \u001b[90m   missing \u001b[0m       16 \u001b[90m \u001b[0m ⋯\n",
       "\u001b[36m                                                             130 columns omitted\u001b[0m"
      ]
     },
     "execution_count": 2,
     "metadata": {},
     "output_type": "execute_result"
    }
   ],
   "source": [
    "phenotypes = CSV.read(\"correlate_all_snps_haplos.csv\",DataFrame,delim = ',',header=true,missingstrings=[\"NA\"])\n",
    "phenotypes = dropmissing(phenotypes, :qNurlogCort)\n",
    "first(phenotypes,5)"
   ]
  },
  {
   "cell_type": "code",
   "execution_count": 3,
   "id": "60359ee1",
   "metadata": {},
   "outputs": [
    {
     "name": "stdout",
     "output_type": "stream",
     "text": [
      "\u001b[32mThe delimiterd in dummy_genotypes.txt is ','. \u001b[39m\u001b[32mThe header (marker IDs) is provided in dummy_genotypes.txt.\u001b[39m\n",
      "Genotype informatin:\n",
      "#markers: 4999; #individuals: 4095\n"
     ]
    }
   ],
   "source": [
    "Hair_G3=[7.5776  0\n",
    " 0  0.289334E-01]\n",
    "myPi=Dict([1.0; 1.0]=>0.000001,[1.0; 0.0]=>0.000999,[0.0; 1.0]=>0.000999,[0.0; 0.0]=>0.998001)\n",
    "genotypes=get_genotypes(\"C:/Users/fmkay/Desktop/Fazhir/Hair_project/GWAS/dummy_genotypes.txt\",header=true, Hair_G3, separator = ',', method=\"BayesB\", quality_control=false, Pi = myPi, estimatePi = false);\n"
   ]
  },
  {
   "cell_type": "code",
   "execution_count": 4,
   "id": "720e9b4f",
   "metadata": {},
   "outputs": [],
   "source": [
    "Hair_model_equation = \"qNurlogCort = Batch + EntryAge + SowID + qNurPenBatch + genotypes\n",
    "Vocalization_number = Batch + EntryAge + SowID + qNurPenBatch + genotypes\";"
   ]
  },
  {
   "cell_type": "code",
   "execution_count": 5,
   "id": "483a28ed",
   "metadata": {},
   "outputs": [],
   "source": [
    "Hair_R= [1.4413 -0.284883\n",
    "    -0.284883 0.733898E-01]\n",
    "Hair_model = build_model(Hair_model_equation, Hair_R);"
   ]
  },
  {
   "cell_type": "code",
   "execution_count": 6,
   "id": "1a33ab39",
   "metadata": {},
   "outputs": [],
   "source": [
    "set_covariate(Hair_model, \"EntryAge\");\n",
    "\n",
    "Hair_G1= [0.521 -0.284883\n",
    "    -0.284883 0.733];\n",
    "set_random(Hair_model,\"qNurPenBatch\",Hair_G1);\n",
    "Hair_G2= [16.4413 0.03\n",
    "    0.03 0.733898E-01];\n",
    "set_random(Hair_model,\"SowID\",Hair_G2);\n"
   ]
  },
  {
   "cell_type": "code",
   "execution_count": 7,
   "id": "a55fd772",
   "metadata": {},
   "outputs": [
    {
     "name": "stderr",
     "output_type": "stream",
     "text": [
      "\u001b[32mrunning MCMC ... 100%|███████████████████████████████████| Time: 0:01:26\u001b[39m9mm9mm9m\n"
     ]
    },
    {
     "name": "stdout",
     "output_type": "stream",
     "text": [
      "\u001b[32mThe folder results is created to save results.\u001b[39m\n",
      "\u001b[32mChecking genotypes...\u001b[39m\n",
      "\u001b[32mChecking phenotypes...\u001b[39m\n",
      "\u001b[32mIndividual IDs (strings) are provided in the first column of the phenotypic data.\u001b[39m\n",
      "\u001b[32mPredicted values for individuals of interest will be obtained as the summation of Any[] (Note that genomic data is always included for now).\u001b[39m\u001b[31mMissing values are found in column Batch for some observations.Effects of this variable on such observations are considered as zeros. It will be used in the estimation of this effect. Users may impute missing values before the analysis \u001b[39m\n",
      "\u001b[31mMissing values are found in column EntryAge for some observations.Effects of this variable on such observations are considered as zeros. It will be used in the estimation of this effect. Users may impute missing values before the analysis \u001b[39m\n",
      "\u001b[31mMissing values are found in column SowID for some observations.Effects of this variable on such observations are considered as zeros. It will be used in the estimation of this effect. Users may impute missing values before the analysis \u001b[39m\n",
      "\u001b[31mMissing values are found in column qNurPenBatch for some observations.Effects of this variable on such observations are considered as zeros. It will be used in the estimation of this effect. Users may impute missing values before the analysis \u001b[39m\n",
      "\u001b[31mMissing values are found in column Batch for some observations.Effects of this variable on such observations are considered as zeros. It will be used in the estimation of this effect. Users may impute missing values before the analysis \u001b[39m\n",
      "\u001b[31mMissing values are found in column EntryAge for some observations.Effects of this variable on such observations are considered as zeros. It will be used in the estimation of this effect. Users may impute missing values before the analysis \u001b[39m\n",
      "\u001b[31mMissing values are found in column SowID for some observations.Effects of this variable on such observations are considered as zeros. It will be used in the estimation of this effect. Users may impute missing values before the analysis \u001b[39m\n",
      "\u001b[31mMissing values are found in column qNurPenBatch for some observations.Effects of this variable on such observations are considered as zeros. It will be used in the estimation of this effect. Users may impute missing values before the analysis \u001b[39m\n",
      "\u001b[32mPhenotypes for 863 observations are used in the analysis.These individual IDs are saved in the file IDs_for_individuals_with_phenotypes.txt.\u001b[39m\n",
      "\n",
      "The prior for marker effects covariance matrix is calculated from genetic covariance matrix and Π.\n",
      "The mean of the prior for the marker effects covariance matrix is:\n",
      " 3.820694  0.0\n",
      " 0.0       0.014588\n",
      "\n",
      "\n",
      "\n",
      "\u001b[0m\u001b[1mA Linear Mixed Model was build using model equations:\u001b[22m\n",
      "\n",
      "qNurlogCort = Batch + EntryAge + SowID + qNurPenBatch + genotypes\n",
      "Vocalization_number = Batch + EntryAge + SowID + qNurPenBatch + genotypes\n",
      "\n",
      "\u001b[0m\u001b[1mModel Information:\u001b[22m\n",
      "\n",
      "Term            C/F          F/R            nLevels\n",
      "Batch           factor       fixed               15\n",
      "EntryAge        covariate    fixed                1\n",
      "SowID           factor       random             281\n",
      "qNurPenBatch    factor       random              68\n",
      "\n",
      "\u001b[0m\u001b[1mMCMC Information:\u001b[22m\n",
      "\n",
      "chain_length                                   1000\n",
      "burnin                                            0\n",
      "starting_value                                 true\n",
      "printout_frequency                             1001\n",
      "output_samples_frequency                         10\n",
      "constraint                                    false\n",
      "missing_phenotypes                             true\n",
      "update_priors_frequency                           0\n",
      "seed                                          false\n",
      "\n",
      "\u001b[0m\u001b[1mHyper-parameters Information:\u001b[22m\n",
      "\n",
      "random effect variances (qNurlogCort:qNurPenBatch,Vocalization_number:qNurPenBatch):\n",
      "  0.521f0  -0.285f0\n",
      " -0.285f0   0.733f0\n",
      "random effect variances (qNurlogCort:SowID,Vocalization_number:SowID):\n",
      " 16.441f0  0.03f0\n",
      "  0.03f0   0.073f0\n",
      "residual variances:           \n",
      "  1.441f0  -0.285f0\n",
      " -0.285f0   0.073f0\n",
      "\n",
      "\u001b[0m\u001b[1mGenomic Information:\u001b[22m\n",
      "\n",
      "complete genomic data (i.e., non-single-step analysis)\n",
      "\n",
      "Genomic Category                          genotypes\n",
      "Method                                       BayesB\n",
      "genetic variances (genomic):  \n",
      " 7.578  0.0\n",
      " 0.0    0.029\n",
      "marker effect variances:      \n",
      " 3.821  0.0\n",
      " 0.0    0.015\n",
      "\n",
      "Π: (Y(yes):included; N(no):excluded)\n",
      "\n",
      "[\"qNurlogCort\", \"Vocalization_number\"]         probability\n",
      "[\"N\", \"N\"]            0.998001\n",
      "[\"Y\", \"Y\"]              1.0e-6\n",
      "[\"Y\", \"N\"]            0.000999\n",
      "[\"N\", \"Y\"]            0.000999\n",
      "\n",
      "estimatePi                                    false\n",
      "estimateScale                                 false\n",
      "\n",
      "\u001b[0m\u001b[1mDegree of freedom for hyper-parameters:\u001b[22m\n",
      "\n",
      "residual variances:                           6.000\n",
      "random effect variances:                      6.000\n",
      "random effect variances:                      6.000\n",
      "marker effect variances:                      4.000\n",
      "\n",
      "\n",
      "\n",
      "\u001b[32mThe file results/MCMC_samples_residual_variance.txt is created to save MCMC samples for residual_variance.\u001b[39m\n",
      "\u001b[32mThe file results/MCMC_samples_marker_effects_genotypes_qNurlogCort.txt is created to save MCMC samples for marker_effects_genotypes_qNurlogCort.\u001b[39m\n",
      "\u001b[32mThe file results/MCMC_samples_marker_effects_genotypes_Vocalization_number.txt is created to save MCMC samples for marker_effects_genotypes_Vocalization_number.\u001b[39m\n",
      "\u001b[32mThe file results/MCMC_samples_marker_effects_variances_genotypes.txt is created to save MCMC samples for marker_effects_variances_genotypes.\u001b[39m\n",
      "\u001b[32mThe file results/MCMC_samples_pi_genotypes.txt is created to save MCMC samples for pi_genotypes.\u001b[39m\n",
      "\u001b[32mThe file results/MCMC_samples_qNurlogCort.EntryAge.txt is created to save MCMC samples for qNurlogCort:EntryAge.\u001b[39m\n",
      "\u001b[32mThe file results/MCMC_samples_Vocalization_number.EntryAge.txt is created to save MCMC samples for Vocalization_number:EntryAge.\u001b[39m\n",
      "\u001b[32mThe file results/MCMC_samples_qNurlogCort.qNurPenBatch.txt is created to save MCMC samples for qNurlogCort:qNurPenBatch.\u001b[39m\n",
      "\u001b[32mThe file results/MCMC_samples_Vocalization_number.qNurPenBatch.txt is created to save MCMC samples for Vocalization_number:qNurPenBatch.\u001b[39m\n",
      "\u001b[32mThe file results/MCMC_samples_qNurlogCort.SowID.txt is created to save MCMC samples for qNurlogCort:SowID.\u001b[39m\n",
      "\u001b[32mThe file results/MCMC_samples_Vocalization_number.SowID.txt is created to save MCMC samples for Vocalization_number:SowID.\u001b[39m\n",
      "\u001b[32mThe file results/MCMC_samples_qNurlogCort.Batch.txt is created to save MCMC samples for qNurlogCort:Batch.\u001b[39m\n",
      "\u001b[32mThe file results/MCMC_samples_Vocalization_number.Batch.txt is created to save MCMC samples for Vocalization_number:Batch.\u001b[39m\n",
      "\u001b[32mThe file results/MCMC_samples_qNurlogCort.qNurPenBatch_Vocalization_number.qNurPenBatch_variances.txt is created to save MCMC samples for qNurlogCort:qNurPenBatch_Vocalization_number:qNurPenBatch_variances.\u001b[39m\n",
      "\u001b[32mThe file results/MCMC_samples_qNurlogCort.SowID_Vocalization_number.SowID_variances.txt is created to save MCMC samples for qNurlogCort:SowID_Vocalization_number:SowID_variances.\u001b[39m\n",
      "\u001b[32mThe file results/MCMC_samples_EBV_qNurlogCort.txt is created to save MCMC samples for EBV_qNurlogCort.\u001b[39m\n",
      "\u001b[32mThe file results/MCMC_samples_EBV_Vocalization_number.txt is created to save MCMC samples for EBV_Vocalization_number.\u001b[39m\n",
      "\u001b[32mThe file results/MCMC_samples_genetic_variance.txt is created to save MCMC samples for genetic_variance.\u001b[39m\n",
      "\u001b[32mThe file results/MCMC_samples_heritability.txt is created to save MCMC samples for heritability.\u001b[39m\n",
      "\n",
      "\n",
      "\u001b[0m\u001b[1mThe version of Julia and Platform in use:\u001b[22m\n",
      "\n",
      "Julia Version 1.7.2\n",
      "Commit bf53498635 (2022-02-06 15:21 UTC)\n",
      "Platform Info:\n",
      "  OS: Windows (x86_64-w64-mingw32)\n",
      "  CPU: Intel(R) Celeron(R) N4500 @ 1.10GHz\n",
      "  WORD_SIZE: 64\n",
      "  LIBM: libopenlibm\n",
      "  LLVM: libLLVM-12.0.1 (ORCJIT, tremont)\n",
      "\n",
      "\n",
      "\u001b[0m\u001b[1mThe analysis has finished. Results are saved in the returned \u001b[22m\u001b[0m\u001b[1mvariable and text files. MCMC samples are saved in text files.\u001b[22m\n",
      "\n",
      "\n"
     ]
    }
   ],
   "source": [
    "out1=runMCMC(Hair_model,phenotypes, missing_phenotypes=true, estimateScale=true, chain_length=1000,burnin = 0,output_heritability=true,  output_samples_frequency=10, output_samples_for_all_parameters = true);\n"
   ]
  },
  {
   "cell_type": "code",
   "execution_count": 16,
   "id": "5134e4a0",
   "metadata": {},
   "outputs": [
    {
     "name": "stderr",
     "output_type": "stream",
     "text": [
      "\u001b[32mrunning GWAS... 100%|████████████████████████████████████| Time: 0:00:17\u001b[39m\n",
      "\u001b[32mrunning GWAS... 100%|████████████████████████████████████| Time: 0:00:13\u001b[39m\n",
      "\u001b[32mcalculating genomic correlation... 100%|█████████████████| Time: 0:00:14\u001b[39m\n"
     ]
    },
    {
     "name": "stdout",
     "output_type": "stream",
     "text": [
      "Compute the posterior probability of association of the genomic window that explains more than 0.001 of the total genetic variance.\n"
     ]
    },
    {
     "data": {
      "text/plain": [
       "((\u001b[1m87×13 DataFrame\u001b[0m\n",
       "\u001b[1m Row \u001b[0m│\u001b[1m trait \u001b[0m\u001b[1m window \u001b[0m\u001b[1m chr    \u001b[0m\u001b[1m wStart   \u001b[0m\u001b[1m wEnd     \u001b[0m\u001b[1m start_SNP \u001b[0m\u001b[1m end_SNP  \u001b[0m\u001b[1m numSNP \u001b[0m\u001b[1m\u001b[0m ⋯\n",
       "\u001b[1m     \u001b[0m│\u001b[90m Int64 \u001b[0m\u001b[90m Int64  \u001b[0m\u001b[90m String \u001b[0m\u001b[90m Int64    \u001b[0m\u001b[90m Int64    \u001b[0m\u001b[90m Int64     \u001b[0m\u001b[90m Int64    \u001b[0m\u001b[90m Int64  \u001b[0m\u001b[90m\u001b[0m ⋯\n",
       "─────┼──────────────────────────────────────────────────────────────────────────\n",
       "   1 │     1      73  1       18000000  18250000   18007380  18245831      53  ⋯\n",
       "   2 │     1      74  1       18250000  18500000   18256738  18445474      18\n",
       "   3 │     1      62  1       15250000  15500000   15280579  15498706      22\n",
       "   4 │     1      70  1       17250000  17500000   17252368  17498262      46\n",
       "   5 │     1      87  1       21500000  21750000   21502842  21736247      59  ⋯\n",
       "   6 │     1      86  1       21250000  21500000   21263684  21499391      52\n",
       "   7 │     1      22  1        5250000   5500000    5252556   5496049      64\n",
       "   8 │     1       5  1        1000000   1250000    1005658   1248474      81\n",
       "   9 │     1      15  1        3500000   3750000    3501012   3743609      62  ⋯\n",
       "  10 │     1      12  1        2750000   3000000    2751428   2998071      66\n",
       "  11 │     1      14  1        3250000   3500000    3257401   3496506      60\n",
       "  ⋮  │   ⋮      ⋮       ⋮        ⋮         ⋮          ⋮         ⋮        ⋮     ⋱\n",
       "  78 │     1      68  1       16750000  17000000   16750058  16988798      46\n",
       "  79 │     1      69  1       17000000  17250000   17007778  17246923      39  ⋯\n",
       "  80 │     1      76  1       18750000  19000000   18752764  18999199      52\n",
       "  81 │     1      77  1       19000000  19250000   19001152  19244926      53\n",
       "  82 │     1      78  1       19250000  19500000   19252734  19488194      58\n",
       "  83 │     1      79  1       19500000  19750000   19504474  19749847      44  ⋯\n",
       "  84 │     1      80  1       19750000  20000000   19752259  19982000      62\n",
       "  85 │     1      81  1       20000000  20250000   20068231  20248508      41\n",
       "  86 │     1      82  1       20250000  20500000   20251519  20496789      42\n",
       "  87 │     1      83  1       20500000  20750000   20500828  20748061      42  ⋯\n",
       "\u001b[36m                                                   5 columns and 66 rows omitted\u001b[0m, \u001b[1m87×13 DataFrame\u001b[0m\n",
       "\u001b[1m Row \u001b[0m│\u001b[1m trait \u001b[0m\u001b[1m window \u001b[0m\u001b[1m chr    \u001b[0m\u001b[1m wStart   \u001b[0m\u001b[1m wEnd     \u001b[0m\u001b[1m start_SNP \u001b[0m\u001b[1m end_SNP  \u001b[0m\u001b[1m numSNP \u001b[0m\u001b[1m\u001b[0m ⋯\n",
       "\u001b[1m     \u001b[0m│\u001b[90m Int64 \u001b[0m\u001b[90m Int64  \u001b[0m\u001b[90m String \u001b[0m\u001b[90m Int64    \u001b[0m\u001b[90m Int64    \u001b[0m\u001b[90m Int64     \u001b[0m\u001b[90m Int64    \u001b[0m\u001b[90m Int64  \u001b[0m\u001b[90m\u001b[0m ⋯\n",
       "─────┼──────────────────────────────────────────────────────────────────────────\n",
       "   1 │     2      37  1        9000000   9250000    9009759   9249958      81  ⋯\n",
       "   2 │     2      36  1        8750000   9000000    8755990   8996136      72\n",
       "   3 │     2      15  1        3500000   3750000    3501012   3743609      62\n",
       "   4 │     2      35  1        8500000   8750000    8500105   8748819      67\n",
       "   5 │     2      53  1       13000000  13250000   13002602  13246655      71  ⋯\n",
       "   6 │     2      60  1       14750000  15000000   14752530  14993669      67\n",
       "   7 │     2       9  1        2000000   2250000    2000553   2244388      68\n",
       "   8 │     2      13  1        3000000   3250000    3015934   3244780      46\n",
       "   9 │     2      14  1        3250000   3500000    3257401   3496506      60  ⋯\n",
       "  10 │     2      34  1        8250000   8500000    8251440   8497031      69\n",
       "  11 │     2      56  1       13750000  14000000   13778641  13999491      67\n",
       "  ⋮  │   ⋮      ⋮       ⋮        ⋮         ⋮          ⋮         ⋮        ⋮     ⋱\n",
       "  78 │     2      40  1        9750000  10000000    9751900   9995902      65\n",
       "  79 │     2      47  1       11500000  11750000   11502856  11747120      62  ⋯\n",
       "  80 │     2      48  1       11750000  12000000   11750626  11999490      63\n",
       "  81 │     2      59  1       14500000  14750000   14502277  14749650      71\n",
       "  82 │     2      62  1       15250000  15500000   15280579  15498706      22\n",
       "  83 │     2      64  1       15750000  16000000   15752411  15972270      52  ⋯\n",
       "  84 │     2      74  1       18250000  18500000   18256738  18445474      18\n",
       "  85 │     2      75  1       18500000  18750000   18512060  18748259      32\n",
       "  86 │     2      76  1       18750000  19000000   18752764  18999199      52\n",
       "  87 │     2      26  1        6250000   6500000    6252163   6496197      70  ⋯\n",
       "\u001b[36m                                                   5 columns and 66 rows omitted\u001b[0m, \u001b[1m87×12 DataFrame\u001b[0m\n",
       "\u001b[1m Row \u001b[0m│\u001b[1m trait      \u001b[0m\u001b[1m window \u001b[0m\u001b[1m chr    \u001b[0m\u001b[1m wStart   \u001b[0m\u001b[1m wEnd     \u001b[0m\u001b[1m start_SNP \u001b[0m\u001b[1m end_SNP  \u001b[0m\u001b[1m nu\u001b[0m ⋯\n",
       "\u001b[1m     \u001b[0m│\u001b[90m String     \u001b[0m\u001b[90m Int64  \u001b[0m\u001b[90m String \u001b[0m\u001b[90m Int64    \u001b[0m\u001b[90m Int64    \u001b[0m\u001b[90m Int64     \u001b[0m\u001b[90m Int64    \u001b[0m\u001b[90m In\u001b[0m ⋯\n",
       "─────┼──────────────────────────────────────────────────────────────────────────\n",
       "   1 │ cor(t1,t2)       1  1              0    250000      10204    247624     ⋯\n",
       "   2 │ cor(t1,t2)       2  1         250000    500000     251883    496376\n",
       "   3 │ cor(t1,t2)       3  1         500000    750000     501133    744678\n",
       "   4 │ cor(t1,t2)       4  1         750000   1000000     750400    998132\n",
       "   5 │ cor(t1,t2)       5  1        1000000   1250000    1005658   1248474     ⋯\n",
       "   6 │ cor(t1,t2)       6  1        1250000   1500000    1252256   1499068\n",
       "   7 │ cor(t1,t2)       7  1        1500000   1750000    1503174   1748174\n",
       "   8 │ cor(t1,t2)       8  1        1750000   2000000    1751943   1991610\n",
       "   9 │ cor(t1,t2)       9  1        2000000   2250000    2000553   2244388     ⋯\n",
       "  10 │ cor(t1,t2)      10  1        2250000   2500000    2251625   2499085\n",
       "  11 │ cor(t1,t2)      11  1        2500000   2750000    2502100   2747345\n",
       "  ⋮  │     ⋮         ⋮       ⋮        ⋮         ⋮          ⋮         ⋮         ⋱\n",
       "  78 │ cor(t1,t2)      78  1       19250000  19500000   19252734  19488194\n",
       "  79 │ cor(t1,t2)      79  1       19500000  19750000   19504474  19749847     ⋯\n",
       "  80 │ cor(t1,t2)      80  1       19750000  20000000   19752259  19982000\n",
       "  81 │ cor(t1,t2)      81  1       20000000  20250000   20068231  20248508\n",
       "  82 │ cor(t1,t2)      82  1       20250000  20500000   20251519  20496789\n",
       "  83 │ cor(t1,t2)      83  1       20500000  20750000   20500828  20748061     ⋯\n",
       "  84 │ cor(t1,t2)      84  1       20750000  21000000   20751287  20995136\n",
       "  85 │ cor(t1,t2)      85  1       21000000  21250000   21014920  21242199\n",
       "  86 │ cor(t1,t2)      86  1       21250000  21500000   21263684  21499391\n",
       "  87 │ cor(t1,t2)      87  1       21500000  21750000   21502842  21736247     ⋯\n",
       "\u001b[36m                                                   5 columns and 66 rows omitted\u001b[0m), ([0.0 0.0 … 0.0 0.0; 0.0 0.0 … 0.0 0.0; … ; 0.0 0.0 … 0.0 0.0; 0.0 0.0 … 0.0 0.0], [0.0 0.0 … 0.0 0.0; 0.0 0.0 … 0.0 0.0; … ; 0.0 0.0 … 0.0 0.0; 0.0 0.0 … 0.0 0.0]))"
      ]
     },
     "execution_count": 16,
     "metadata": {},
     "output_type": "execute_result"
    }
   ],
   "source": [
    "cd(\"C:/Users/fmkay/Desktop/Fazhir/Hair_project/GWAS/results\")\n",
    "out = GWAS(Hair_model,\"dummy_mapfile.txt\",\"MCMC_samples_marker_effects_genotypes_qNurlogCort.txt\",\"MCMC_samples_marker_effects_genotypes_Vocalization_number.txt\",header=true,GWAS=true,threshold = 0.001,window_size=\"0.25 Mb\",genetic_correlation=true,output_winVarProps = true)"
   ]
  },
  {
   "cell_type": "code",
   "execution_count": null,
   "id": "28864bb4",
   "metadata": {},
   "outputs": [],
   "source": [
    "?runMCMC"
   ]
  },
  {
   "cell_type": "code",
   "execution_count": null,
   "id": "48b7f8c6",
   "metadata": {},
   "outputs": [],
   "source": [
    "?GWAS\n"
   ]
  }
 ],
 "metadata": {
  "kernelspec": {
   "display_name": "Julia 1.7.2",
   "language": "julia",
   "name": "julia-1.7"
  },
  "language_info": {
   "file_extension": ".jl",
   "mimetype": "application/julia",
   "name": "julia",
   "version": "1.7.2"
  }
 },
 "nbformat": 4,
 "nbformat_minor": 5
}
